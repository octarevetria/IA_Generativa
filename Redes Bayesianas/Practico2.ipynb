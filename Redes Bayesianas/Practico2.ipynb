{
 "cells": [
  {
   "cell_type": "markdown",
   "metadata": {},
   "source": [
    "# Practico 2 - Redes Bayesianas y Estimación de distribuciones continuas.\n",
    "\n",
    "El objetivo de esta notebook es implementar las redes bayesianas sobre el dataset de Tennis y continuar explorando formas de estimar distribuciones pero esta vez sobre datos continuos. "
   ]
  },
  {
   "cell_type": "markdown",
   "metadata": {},
   "source": [
    "## Parte 1: Redes Bayesianas"
   ]
  },
  {
   "cell_type": "markdown",
   "metadata": {},
   "source": [
    "## Imports"
   ]
  },
  {
   "cell_type": "code",
   "execution_count": 15,
   "metadata": {},
   "outputs": [],
   "source": [
    "#!pip install pgmpy"
   ]
  },
  {
   "cell_type": "code",
   "execution_count": 16,
   "metadata": {},
   "outputs": [],
   "source": [
    "import pandas as pd\n",
    "import networkx as nx\n",
    "import matplotlib.pyplot as plt\n",
    "from pgmpy.models import DiscreteBayesianNetwork\n",
    "from pgmpy.estimators import MaximumLikelihoodEstimator\n",
    "from pgmpy.inference import VariableElimination"
   ]
  },
  {
   "cell_type": "markdown",
   "metadata": {},
   "source": [
    "### Paso 1: Cargar los Datos y Construir el Modelo"
   ]
  },
  {
   "cell_type": "code",
   "execution_count": 17,
   "metadata": {},
   "outputs": [
    {
     "data": {
      "text/html": [
       "<div>\n",
       "<style scoped>\n",
       "    .dataframe tbody tr th:only-of-type {\n",
       "        vertical-align: middle;\n",
       "    }\n",
       "\n",
       "    .dataframe tbody tr th {\n",
       "        vertical-align: top;\n",
       "    }\n",
       "\n",
       "    .dataframe thead th {\n",
       "        text-align: right;\n",
       "    }\n",
       "</style>\n",
       "<table border=\"1\" class=\"dataframe\">\n",
       "  <thead>\n",
       "    <tr style=\"text-align: right;\">\n",
       "      <th></th>\n",
       "      <th>Day</th>\n",
       "      <th>Outlook</th>\n",
       "      <th>Temp</th>\n",
       "      <th>Humidity</th>\n",
       "      <th>Wind</th>\n",
       "      <th>Tennis</th>\n",
       "    </tr>\n",
       "  </thead>\n",
       "  <tbody>\n",
       "    <tr>\n",
       "      <th>0</th>\n",
       "      <td>D1</td>\n",
       "      <td>Sunny</td>\n",
       "      <td>Hot</td>\n",
       "      <td>High</td>\n",
       "      <td>Weak</td>\n",
       "      <td>No</td>\n",
       "    </tr>\n",
       "    <tr>\n",
       "      <th>1</th>\n",
       "      <td>D2</td>\n",
       "      <td>Sunny</td>\n",
       "      <td>Hot</td>\n",
       "      <td>High</td>\n",
       "      <td>Strong</td>\n",
       "      <td>No</td>\n",
       "    </tr>\n",
       "    <tr>\n",
       "      <th>2</th>\n",
       "      <td>D3</td>\n",
       "      <td>Overcast</td>\n",
       "      <td>Hot</td>\n",
       "      <td>High</td>\n",
       "      <td>Weak</td>\n",
       "      <td>Yes</td>\n",
       "    </tr>\n",
       "    <tr>\n",
       "      <th>3</th>\n",
       "      <td>D4</td>\n",
       "      <td>Rain</td>\n",
       "      <td>Mild</td>\n",
       "      <td>High</td>\n",
       "      <td>Weak</td>\n",
       "      <td>Yes</td>\n",
       "    </tr>\n",
       "    <tr>\n",
       "      <th>4</th>\n",
       "      <td>D5</td>\n",
       "      <td>Rain</td>\n",
       "      <td>Cool</td>\n",
       "      <td>Normal</td>\n",
       "      <td>Weak</td>\n",
       "      <td>Yes</td>\n",
       "    </tr>\n",
       "  </tbody>\n",
       "</table>\n",
       "</div>"
      ],
      "text/plain": [
       "  Day   Outlook  Temp Humidity    Wind Tennis\n",
       "0  D1     Sunny   Hot     High    Weak     No\n",
       "1  D2     Sunny   Hot     High  Strong     No\n",
       "2  D3  Overcast   Hot     High    Weak    Yes\n",
       "3  D4      Rain  Mild     High    Weak    Yes\n",
       "4  D5      Rain  Cool   Normal    Weak    Yes"
      ]
     },
     "execution_count": 17,
     "metadata": {},
     "output_type": "execute_result"
    }
   ],
   "source": [
    "# Cargar los datos\n",
    "data = pd.read_csv('./tennis.csv')\n",
    "data.head()"
   ]
  },
  {
   "cell_type": "markdown",
   "metadata": {},
   "source": [
    "Definimos variables aleatorias que vamos a usar. Por simplicidad en la visualización solo usaremos 3, pero puede usar todas las que quiera."
   ]
  },
  {
   "cell_type": "code",
   "execution_count": 18,
   "metadata": {},
   "outputs": [],
   "source": [
    "outlook = 'Outlook'\n",
    "temp = 'Temp'\n",
    "wind = 'Wind'\n",
    "tennis = 'Tennis'\n",
    "\n",
    "data = data[[outlook, temp, tennis]]"
   ]
  },
  {
   "cell_type": "markdown",
   "metadata": {},
   "source": [
    "Tenemos que definir las relaciones condicionales que hay entre estas variables, para eso vamos a definir las siguientes relaciones: \n",
    "\n",
    "- Tennis depende de Outlook\n",
    "- Tennis depende de Temp"
   ]
  },
  {
   "cell_type": "code",
   "execution_count": 19,
   "metadata": {},
   "outputs": [],
   "source": [
    "relations = [(outlook, tennis), (temp, tennis)]"
   ]
  },
  {
   "cell_type": "markdown",
   "metadata": {},
   "source": [
    "Teniendo las relaciones vamos a crear nuestro modelo!"
   ]
  },
  {
   "cell_type": "code",
   "execution_count": 20,
   "metadata": {},
   "outputs": [],
   "source": [
    "model = DiscreteBayesianNetwork(relations)"
   ]
  },
  {
   "cell_type": "markdown",
   "metadata": {},
   "source": [
    "Ahora que tenemos el modelo vamos a ajustarlo para que capture las probabilidades condicionales en las observaciones."
   ]
  },
  {
   "cell_type": "code",
   "execution_count": 21,
   "metadata": {},
   "outputs": [
    {
     "name": "stderr",
     "output_type": "stream",
     "text": [
      "INFO:pgmpy: Datatype (N=numerical, C=Categorical Unordered, O=Categorical Ordered) inferred from data: \n",
      " {'Outlook': 'C', 'Temp': 'C', 'Tennis': 'C'}\n"
     ]
    },
    {
     "data": {
      "text/plain": [
       "<pgmpy.models.DiscreteBayesianNetwork.DiscreteBayesianNetwork at 0x23c35139c50>"
      ]
     },
     "execution_count": 21,
     "metadata": {},
     "output_type": "execute_result"
    }
   ],
   "source": [
    "# Aprender los CPDs desde los datos\n",
    "model.fit(data, estimator=MaximumLikelihoodEstimator)"
   ]
  },
  {
   "cell_type": "markdown",
   "metadata": {},
   "source": [
    "Verificamos si el modelo es valido."
   ]
  },
  {
   "cell_type": "code",
   "execution_count": 22,
   "metadata": {},
   "outputs": [
    {
     "data": {
      "text/plain": [
       "True"
      ]
     },
     "execution_count": 22,
     "metadata": {},
     "output_type": "execute_result"
    }
   ],
   "source": [
    "model.check_model()"
   ]
  },
  {
   "cell_type": "markdown",
   "metadata": {},
   "source": [
    "### Paso 2: Visualización del Grafo y CPDs"
   ]
  },
  {
   "cell_type": "code",
   "execution_count": 23,
   "metadata": {},
   "outputs": [],
   "source": [
    "def visualize_graph(model):\n",
    "    G = nx.DiGraph()\n",
    "    G.add_edges_from(model.edges())\n",
    "    plt.figure(figsize=(7, 5))\n",
    "    pos = nx.spring_layout(G)\n",
    "    nx.draw(G, pos, with_labels=True, node_size=10000, node_color=\"skyblue\", font_size=14, font_weight=\"bold\", arrowsize=30)\n",
    "    plt.title(\"Red Bayesiana del Dataset de Tenis\")\n",
    "    plt.show()"
   ]
  },
  {
   "cell_type": "code",
   "execution_count": 24,
   "metadata": {},
   "outputs": [
    {
     "data": {
      "image/png": "[encoded data removed]",
      "text/plain": [
       "<Figure size 700x500 with 1 Axes>"
      ]
     },
     "metadata": {},
     "output_type": "display_data"
    }
   ],
   "source": [
    "visualize_graph(model)"
   ]
  },
  {
   "cell_type": "code",
   "execution_count": 25,
   "metadata": {},
   "outputs": [
    {
     "name": "stdout",
     "output_type": "stream",
     "text": [
      "CPD de Outlook:\n",
      "+-------------------+----------+\n",
      "| Outlook(Overcast) | 0.285714 |\n",
      "+-------------------+----------+\n",
      "| Outlook(Rain)     | 0.357143 |\n",
      "+-------------------+----------+\n",
      "| Outlook(Sunny)    | 0.357143 |\n",
      "+-------------------+----------+\n",
      "CPD de Tennis:\n",
      "+-------------+-------------------+-----+----------------+----------------+\n",
      "| Outlook     | Outlook(Overcast) | ... | Outlook(Sunny) | Outlook(Sunny) |\n",
      "+-------------+-------------------+-----+----------------+----------------+\n",
      "| Temp        | Temp(Cool)        | ... | Temp(Hot)      | Temp(Mild)     |\n",
      "+-------------+-------------------+-----+----------------+----------------+\n",
      "| Tennis(No)  | 0.0               | ... | 1.0            | 0.5            |\n",
      "+-------------+-------------------+-----+----------------+----------------+\n",
      "| Tennis(Yes) | 1.0               | ... | 0.0            | 0.5            |\n",
      "+-------------+-------------------+-----+----------------+----------------+\n",
      "CPD de Temp:\n",
      "+------------+----------+\n",
      "| Temp(Cool) | 0.285714 |\n",
      "+------------+----------+\n",
      "| Temp(Hot)  | 0.285714 |\n",
      "+------------+----------+\n",
      "| Temp(Mild) | 0.428571 |\n",
      "+------------+----------+\n"
     ]
    }
   ],
   "source": [
    "for cpd in model.get_cpds():\n",
    "    print(f\"CPD de {cpd.variable}:\")\n",
    "    print(cpd)"
   ]
  },
  {
   "cell_type": "markdown",
   "metadata": {},
   "source": [
    "### Explicación:\n",
    "- **Estructura de la Red:** Los arcos en la red representan la relación de causa y efecto entre las variables. Aquí, las condiciones del clima influyen en la decisión de jugar tenis.\n",
    "- **CPDs:** Cada nodo tiene un CPD que describe la distribución de probabilidad condicional de la variable dada sus padres."
   ]
  },
  {
   "cell_type": "markdown",
   "metadata": {},
   "source": [
    "¿Por qué la tabla de Outlook y Temp solamente una columna mientras que la de Tennis tiene varias?\n",
    "\n",
    "¿Cuántas columnas tiene la de Tennis? ¿Por qué?"
   ]
  },
  {
   "cell_type": "markdown",
   "metadata": {},
   "source": [
    "#### Outlook y Temp tiene solo una columna porque no tienen padres. Es decir, que su distribucion no depende de otras variables de la tabla de datos.\n",
    "\n",
    "#### Tiene 9 columnas, son tres categorias de Outlook y tres cateogorias de Temp. En total hay 9 posibles pares de combinaciones entre las dos variables."
   ]
  },
  {
   "cell_type": "code",
   "execution_count": 26,
   "metadata": {},
   "outputs": [
    {
     "name": "stdout",
     "output_type": "stream",
     "text": [
      "Variable: Outlook\n",
      "  Estados:\n",
      "    - Overcast\n",
      "    - Rain\n",
      "    - Sunny\n",
      "  Cardinalidad: 3\n",
      "\n",
      "Variable: Tennis\n",
      "  Estados:\n",
      "    - No\n",
      "    - Yes\n",
      "  Cardinalidad: 2\n",
      "\n",
      "Variable: Temp\n",
      "  Estados:\n",
      "    - Cool\n",
      "    - Hot\n",
      "    - Mild\n",
      "  Cardinalidad: 3\n",
      "\n"
     ]
    }
   ],
   "source": [
    "for cpd in model.get_cpds():\n",
    "    print(f\"Variable: {cpd.variable}\")\n",
    "    print(\"  Estados:\")\n",
    "    for state in cpd.state_names[cpd.variable]:\n",
    "        print(f\"    - {state}\")\n",
    "    print(f\"  Cardinalidad: {cpd.variable_card}\\n\")"
   ]
  },
  {
   "cell_type": "markdown",
   "metadata": {},
   "source": [
    "- **Cardinalidad:** Indica cuántos estados puede tener una variable."
   ]
  },
  {
   "cell_type": "markdown",
   "metadata": {},
   "source": [
    "### Paso 3: Inferencia en la Red\n",
    "\n",
    "**Inferencia:** Dado un conjunto de evidencias (ej. Outlook y Temp), la red calcula la probabilidad de que Tennis sea 'Yes' o 'No'."
   ]
  },
  {
   "cell_type": "code",
   "execution_count": 27,
   "metadata": {},
   "outputs": [
    {
     "name": "stdout",
     "output_type": "stream",
     "text": [
      "\n",
      "Resultado de la inferencia:\n",
      "+-------------+---------------+\n",
      "| Tennis      |   phi(Tennis) |\n",
      "+=============+===============+\n",
      "| Tennis(No)  |        0.5000 |\n",
      "+-------------+---------------+\n",
      "| Tennis(Yes) |        0.5000 |\n",
      "+-------------+---------------+\n"
     ]
    }
   ],
   "source": [
    "# Inferencia en la red bayesiana\n",
    "inferencia = VariableElimination(model)\n",
    "resultado = inferencia.query(variables=[tennis], evidence={outlook: 'Sunny', temp: 'Mild'})\n",
    "print(\"\\nResultado de la inferencia:\")\n",
    "print(resultado)"
   ]
  },
  {
   "cell_type": "markdown",
   "metadata": {},
   "source": [
    "### Ejercicios:\n",
    "1. Realice inferencias usando diferentes combinaciones de evidencias para observar cómo cambian las probabilidades.\n",
    "2. Cree otro modelo con diferentes relaciones y realice inferencias sobre este.\n",
    " Recuerde que puede agregar más variables (como por ej. Humudity o Wind)."
   ]
  },
  {
   "cell_type": "markdown",
   "metadata": {},
   "source": [
    "#### 1. Diferentes inferencias en base combinaciones de evidencias."
   ]
  },
  {
   "cell_type": "code",
   "execution_count": 28,
   "metadata": {},
   "outputs": [
    {
     "name": "stdout",
     "output_type": "stream",
     "text": [
      "\n",
      "Resultado de la inferencia:\n",
      "+-------------+---------------+\n",
      "| Tennis      |   phi(Tennis) |\n",
      "+=============+===============+\n",
      "| Tennis(No)  |        0.0000 |\n",
      "+-------------+---------------+\n",
      "| Tennis(Yes) |        1.0000 |\n",
      "+-------------+---------------+\n"
     ]
    }
   ],
   "source": [
    "prueba_1 = inferencia.query(variables=[tennis], evidence={outlook: 'Overcast', temp: 'Hot'})\n",
    "print(\"\\nResultado de la inferencia:\")\n",
    "print(prueba_1)"
   ]
  },
  {
   "cell_type": "code",
   "execution_count": null,
   "metadata": {},
   "outputs": [
    {
     "ename": "KeyError",
     "evalue": "\"state: Rainy is an unknown for variable: Outlook. It must be one of ['Overcast', 'Rain', 'Sunny']\"",
     "output_type": "error",
     "traceback": [
      "\u001b[31m---------------------------------------------------------------------------\u001b[39m",
      "\u001b[31mKeyError\u001b[39m                                  Traceback (most recent call last)",
      "\u001b[36mFile \u001b[39m\u001b[32mc:\\Users\\Octav\\miniconda3\\envs\\ia_gen\\Lib\\site-packages\\pgmpy\\utils\\state_name.py:73\u001b[39m, in \u001b[36mStateNameMixin.get_state_no\u001b[39m\u001b[34m(self, var, state_name)\u001b[39m\n\u001b[32m     72\u001b[39m \u001b[38;5;28;01mtry\u001b[39;00m:\n\u001b[32m---> \u001b[39m\u001b[32m73\u001b[39m     \u001b[38;5;28;01mreturn\u001b[39;00m \u001b[38;5;28;43mself\u001b[39;49m\u001b[43m.\u001b[49m\u001b[43mname_to_no\u001b[49m\u001b[43m[\u001b[49m\u001b[43mvar\u001b[49m\u001b[43m]\u001b[49m\u001b[43m[\u001b[49m\u001b[43mstate_name\u001b[49m\u001b[43m]\u001b[49m\n\u001b[32m     74\u001b[39m \u001b[38;5;28;01mexcept\u001b[39;00m \u001b[38;5;167;01mKeyError\u001b[39;00m:\n",
      "\u001b[31mKeyError\u001b[39m: 'Rainy'",
      "\nDuring handling of the above exception, another exception occurred:\n",
      "\u001b[31mKeyError\u001b[39m                                  Traceback (most recent call last)",
      "\u001b[36mCell\u001b[39m\u001b[36m \u001b[39m\u001b[32mIn[29]\u001b[39m\u001b[32m, line 1\u001b[39m\n\u001b[32m----> \u001b[39m\u001b[32m1\u001b[39m prueba_2 = \u001b[43minferencia\u001b[49m\u001b[43m.\u001b[49m\u001b[43mquery\u001b[49m\u001b[43m(\u001b[49m\u001b[43mvariables\u001b[49m\u001b[43m=\u001b[49m\u001b[43m[\u001b[49m\u001b[43mtennis\u001b[49m\u001b[43m]\u001b[49m\u001b[43m,\u001b[49m\u001b[43m \u001b[49m\u001b[43mevidence\u001b[49m\u001b[43m=\u001b[49m\u001b[43m{\u001b[49m\u001b[43moutlook\u001b[49m\u001b[43m:\u001b[49m\u001b[43m \u001b[49m\u001b[33;43m'\u001b[39;49m\u001b[33;43mRainy\u001b[39;49m\u001b[33;43m'\u001b[39;49m\u001b[43m,\u001b[49m\u001b[43m \u001b[49m\u001b[43mtemp\u001b[49m\u001b[43m:\u001b[49m\u001b[43m \u001b[49m\u001b[33;43m'\u001b[39;49m\u001b[33;43mHot\u001b[39;49m\u001b[33;43m'\u001b[39;49m\u001b[43m}\u001b[49m\u001b[43m)\u001b[49m\n\u001b[32m      2\u001b[39m \u001b[38;5;28mprint\u001b[39m(\u001b[33m\"\u001b[39m\u001b[38;5;130;01m\\n\u001b[39;00m\u001b[33mResultado de la inferencia:\u001b[39m\u001b[33m\"\u001b[39m)\n\u001b[32m      3\u001b[39m \u001b[38;5;28mprint\u001b[39m(prueba_2)\n",
      "\u001b[36mFile \u001b[39m\u001b[32mc:\\Users\\Octav\\miniconda3\\envs\\ia_gen\\Lib\\site-packages\\pgmpy\\inference\\ExactInference.py:341\u001b[39m, in \u001b[36mVariableElimination.query\u001b[39m\u001b[34m(self, variables, evidence, virtual_evidence, elimination_order, joint, show_progress)\u001b[39m\n\u001b[32m    339\u001b[39m     indexer = [\u001b[38;5;28mslice\u001b[39m(\u001b[38;5;28;01mNone\u001b[39;00m)] * \u001b[38;5;28mlen\u001b[39m(phi.variables)\n\u001b[32m    340\u001b[39m     \u001b[38;5;28;01mfor\u001b[39;00m index \u001b[38;5;129;01min\u001b[39;00m indexes_to_reduce:\n\u001b[32m--> \u001b[39m\u001b[32m341\u001b[39m         indexer[index] = \u001b[43mphi\u001b[49m\u001b[43m.\u001b[49m\u001b[43mget_state_no\u001b[49m\u001b[43m(\u001b[49m\n\u001b[32m    342\u001b[39m \u001b[43m            \u001b[49m\u001b[43mphi\u001b[49m\u001b[43m.\u001b[49m\u001b[43mvariables\u001b[49m\u001b[43m[\u001b[49m\u001b[43mindex\u001b[49m\u001b[43m]\u001b[49m\u001b[43m,\u001b[49m\u001b[43m \u001b[49m\u001b[43mevidence\u001b[49m\u001b[43m[\u001b[49m\u001b[43mphi\u001b[49m\u001b[43m.\u001b[49m\u001b[43mvariables\u001b[49m\u001b[43m[\u001b[49m\u001b[43mindex\u001b[49m\u001b[43m]\u001b[49m\u001b[43m]\u001b[49m\n\u001b[32m    343\u001b[39m \u001b[43m        \u001b[49m\u001b[43m)\u001b[49m\n\u001b[32m    344\u001b[39m     reduce_indexes.append(\u001b[38;5;28mtuple\u001b[39m(indexer))\n\u001b[32m    346\u001b[39m \u001b[38;5;66;03m# Step 5.2: Prepare values and index arrays to do use in einsum\u001b[39;00m\n",
      "\u001b[36mFile \u001b[39m\u001b[32mc:\\Users\\Octav\\miniconda3\\envs\\ia_gen\\Lib\\site-packages\\pgmpy\\utils\\state_name.py:75\u001b[39m, in \u001b[36mStateNameMixin.get_state_no\u001b[39m\u001b[34m(self, var, state_name)\u001b[39m\n\u001b[32m     73\u001b[39m         \u001b[38;5;28;01mreturn\u001b[39;00m \u001b[38;5;28mself\u001b[39m.name_to_no[var][state_name]\n\u001b[32m     74\u001b[39m     \u001b[38;5;28;01mexcept\u001b[39;00m \u001b[38;5;167;01mKeyError\u001b[39;00m:\n\u001b[32m---> \u001b[39m\u001b[32m75\u001b[39m         \u001b[38;5;28;01mraise\u001b[39;00m \u001b[38;5;167;01mKeyError\u001b[39;00m(\n\u001b[32m     76\u001b[39m             \u001b[33mf\u001b[39m\u001b[33m\"\u001b[39m\u001b[33mstate: \u001b[39m\u001b[38;5;132;01m{\u001b[39;00mstate_name\u001b[38;5;132;01m}\u001b[39;00m\u001b[33m is an unknown for variable: \u001b[39m\u001b[38;5;132;01m{\u001b[39;00mvar\u001b[38;5;132;01m}\u001b[39;00m\u001b[33m. It must be one of \u001b[39m\u001b[38;5;132;01m{\u001b[39;00m\u001b[38;5;28mlist\u001b[39m(\u001b[38;5;28mself\u001b[39m.name_to_no[var].keys())\u001b[38;5;132;01m}\u001b[39;00m\u001b[33m\"\u001b[39m\n\u001b[32m     77\u001b[39m         )\n\u001b[32m     78\u001b[39m \u001b[38;5;28;01melse\u001b[39;00m:\n\u001b[32m     79\u001b[39m     \u001b[38;5;28;01mreturn\u001b[39;00m state_name\n",
      "\u001b[31mKeyError\u001b[39m: \"state: Rainy is an unknown for variable: Outlook. It must be one of ['Overcast', 'Rain', 'Sunny']\""
     ]
    }
   ],
   "source": [
    "prueba_2 = inferencia.query(variables=[tennis], evidence={outlook: 'Rain', temp: 'Hot'})\n",
    "print(\"\\nResultado de la inferencia:\")\n",
    "print(prueba_2)"
   ]
  },
  {
   "cell_type": "markdown",
   "metadata": {},
   "source": [
    "## Parte 2: Estimando distribuciones continuas.\n",
    "\n",
    "El objetivo de esta notebook es explorar una primera manera de aproximar $p(x|y)$ y $p(y|x)$ en un dataset tabular donde $x\\in\\mathbb{R}^k$ y el objetivo $y$ es una variable discreta y finita $y\\in\\{0,\\ldots,d\\}⊆\\mathbb{N}, d\\geq 1$."
   ]
  },
  {
   "cell_type": "markdown",
   "metadata": {},
   "source": [
    "### Imports"
   ]
  },
  {
   "cell_type": "code",
   "execution_count": null,
   "metadata": {},
   "outputs": [],
   "source": [
    "import numpy as np\n",
    "import seaborn as sns\n",
    "\n",
    "from sklearn import datasets\n",
    "from matplotlib import pyplot as plt"
   ]
  },
  {
   "cell_type": "markdown",
   "metadata": {},
   "source": [
    "### Cargamos el dataset"
   ]
  },
  {
   "cell_type": "code",
   "execution_count": null,
   "metadata": {},
   "outputs": [],
   "source": [
    "iris = datasets.load_iris()"
   ]
  },
  {
   "cell_type": "code",
   "execution_count": null,
   "metadata": {},
   "outputs": [],
   "source": [
    "iris.target_names"
   ]
  },
  {
   "cell_type": "code",
   "execution_count": null,
   "metadata": {},
   "outputs": [],
   "source": [
    "X = iris.data\n",
    "y = iris.target"
   ]
  },
  {
   "cell_type": "code",
   "execution_count": null,
   "metadata": {},
   "outputs": [],
   "source": [
    "iris_df = pd.DataFrame(data=X,\n",
    "             columns=iris.feature_names,\n",
    "             )\n",
    "\n",
    "iris_df"
   ]
  },
  {
   "cell_type": "markdown",
   "metadata": {},
   "source": [
    "Para simplificar el problema solo trabajaremos con una variable aleatoria.\n",
    "\n",
    "Filtramos el dataset por feature.\n",
    "\n",
    "feature_number puede ser 0, 1, 2, 3\n",
    "- 0 - sepal length (cm)\n",
    "- 1 - sepal width (cm)\n",
    "- 2 - petal length (cm)\n",
    "- 3 - petal width (cm)"
   ]
  },
  {
   "cell_type": "code",
   "execution_count": null,
   "metadata": {},
   "outputs": [],
   "source": [
    "feature_number = 0\n",
    "feature_name = iris.feature_names[feature_number]\n",
    "xfeature_original = X[:,feature_number]\n",
    "xfeature_original"
   ]
  },
  {
   "cell_type": "markdown",
   "metadata": {},
   "source": [
    "Como estamos trabajando con valores continuos, vamos a discretizarlos.\n",
    "\n",
    "Para ello, vamos a utilizar la funcion linspace de numpy, que nos permite dividir un rango en n partes iguales. https://numpy.org/doc/stable/reference/generated/numpy.linspace.html"
   ]
  },
  {
   "cell_type": "markdown",
   "metadata": {},
   "source": [
    "Hacemos el siguiente calculo para tener la cantidad de bins que deseamos ya que la librería siempre nos crea uno más."
   ]
  },
  {
   "cell_type": "code",
   "execution_count": null,
   "metadata": {},
   "outputs": [],
   "source": [
    "NBINS = 10\n",
    "bin_size = (np.max(xfeature_original) - np.min(xfeature_original)) / NBINS\n",
    "end = np.max(xfeature_original) - bin_size\n",
    "bins = np.linspace(start=np.min(xfeature_original), stop=end, num=NBINS)\n",
    "\n",
    "bins"
   ]
  },
  {
   "cell_type": "code",
   "execution_count": null,
   "metadata": {},
   "outputs": [],
   "source": [
    "xfeature_digitized = np.digitize(x=xfeature_original, bins=bins)\n",
    "xfeature_digitized"
   ]
  },
  {
   "cell_type": "markdown",
   "metadata": {},
   "source": [
    "### Aproximamos $p(x|y)$\n",
    "\n",
    "Para calcular la distribución $p (x | y)$ usamos *distplot kde* (Kernel Density Estimation) para cada clase con los datos originales (datos continuos y no los discretizados)."
   ]
  },
  {
   "cell_type": "markdown",
   "metadata": {},
   "source": [
    "Para este paso aprovechamos que el dataset esta ordenado por clase."
   ]
  },
  {
   "cell_type": "code",
   "execution_count": null,
   "metadata": {},
   "outputs": [],
   "source": [
    "pd_cats = pd.DataFrame(xfeature_original.flatten(), columns=['x'])\n",
    "pd_cats['cat'] = np.concatenate((np.full(50, 'setosa'),\n",
    "                                np.full(50, 'versicolor'),\n",
    "                                np.full(50, 'virginica')))\n",
    "sns.displot(\n",
    "    data=pd_cats, x='x', kind='kde',\n",
    "    hue='cat', fill=True\n",
    ")\n",
    "\n",
    "plt.title('p(x | y)')\n",
    "plt.show()"
   ]
  },
  {
   "cell_type": "markdown",
   "metadata": {},
   "source": [
    "¿Qué nos muestra esta gráfica?\n",
    "\n",
    "¿Qué conclusiones puede sacar?"
   ]
  },
  {
   "cell_type": "markdown",
   "metadata": {},
   "source": [
    "Ejercicio: Grafique un histograma para cada clase que nos muestre $p (bin| y = clase)$ utilizando los datos discretizados. Puede utilizar la función *np.histogram*. https://numpy.org/doc/stable/reference/generated/numpy.histogram.html\n",
    "\n",
    "Luego compare los histogramas con la gráfica de arriba sobre $p (x | y)$."
   ]
  },
  {
   "cell_type": "markdown",
   "metadata": {},
   "source": [
    "### Aproximamos $p(y|x)$\n",
    "\n",
    "Estime la probabilidad condicional de *y* dado *x* y luego muestree 10 valores de y dado que $x = 4.75$"
   ]
  },
  {
   "cell_type": "markdown",
   "metadata": {},
   "source": [
    "### Sampleamos sobre *p(x|y)*\n",
    "\n",
    "Realice una muestra de 50 valores de $x$ para cada valor de $y$. Recomendamos utilizar la función *gaussian_kde* de *scipy.stats*."
   ]
  },
  {
   "cell_type": "code",
   "execution_count": null,
   "metadata": {},
   "outputs": [],
   "source": [
    "from scipy.stats import gaussian_kde\n"
   ]
  },
  {
   "cell_type": "markdown",
   "metadata": {},
   "source": [
    "Grafique $p(x|y)$ utilizando los datos sampleados y compare con la gráfica de $p(x|y)$ creada con los datos originales."
   ]
  },
  {
   "cell_type": "code",
   "execution_count": null,
   "metadata": {},
   "outputs": [],
   "source": []
  },
  {
   "cell_type": "markdown",
   "metadata": {},
   "source": [
    "### Aproximamos la distribución normal de $p(x|y)$"
   ]
  },
  {
   "cell_type": "code",
   "execution_count": null,
   "metadata": {},
   "outputs": [],
   "source": [
    "# Separamos los datos de cada clase\n",
    "setosa_feature = xfeature_original[:50]\n",
    "versicolor_feature = xfeature_original[51:100]\n",
    "virginica_feature = xfeature_original[101:150]"
   ]
  },
  {
   "cell_type": "markdown",
   "metadata": {},
   "source": [
    "Calcule la media y la desviación estándar para cada valor de $y$."
   ]
  },
  {
   "cell_type": "code",
   "execution_count": null,
   "metadata": {},
   "outputs": [],
   "source": []
  },
  {
   "cell_type": "markdown",
   "metadata": {},
   "source": [
    "Utilice la función *normal* de *np.random* para realizar una muestra sobre cada distribución normal."
   ]
  },
  {
   "cell_type": "code",
   "execution_count": null,
   "metadata": {},
   "outputs": [],
   "source": []
  },
  {
   "cell_type": "markdown",
   "metadata": {},
   "source": [
    "Utilizando las muestras grafique la aproximación a distribuciones normales de *p (x | y)*."
   ]
  },
  {
   "cell_type": "code",
   "execution_count": null,
   "metadata": {},
   "outputs": [],
   "source": []
  },
  {
   "cell_type": "markdown",
   "metadata": {},
   "source": [
    "Compare esta gráfica con la gráfica de *p(x|y)* original."
   ]
  },
  {
   "cell_type": "markdown",
   "metadata": {},
   "source": [
    "### Graficamos la mezcla de Gaussianas."
   ]
  },
  {
   "cell_type": "markdown",
   "metadata": {},
   "source": [
    "Grafique la mezcla de Gaussianas."
   ]
  },
  {
   "cell_type": "code",
   "execution_count": null,
   "metadata": {},
   "outputs": [],
   "source": []
  },
  {
   "cell_type": "markdown",
   "metadata": {},
   "source": [
    "Compare esta gráfica con la gráfica de *p(x|y)* usando distribuciones normales."
   ]
  },
  {
   "cell_type": "markdown",
   "metadata": {},
   "source": [
    "### Opcional: Aproxime $p(y|x)$ y realice una muestra de 10 valores de $y$ con $x = 4.75$"
   ]
  },
  {
   "cell_type": "code",
   "execution_count": null,
   "metadata": {},
   "outputs": [],
   "source": []
  }
 ],
 "metadata": {
  "kernelspec": {
   "display_name": "ia_gen",
   "language": "python",
   "name": "python3"
  },
  "language_info": {
   "codemirror_mode": {
    "name": "ipython",
    "version": 3
   },
   "file_extension": ".py",
   "mimetype": "text/x-python",
   "name": "python",
   "nbconvert_exporter": "python",
   "pygments_lexer": "ipython3",
   "version": "3.11.13"
  }
 },
 "nbformat": 4,
 "nbformat_minor": 2
}
