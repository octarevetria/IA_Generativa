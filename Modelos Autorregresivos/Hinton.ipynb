{
 "cells": [
  {
   "cell_type": "markdown",
   "metadata": {},
   "source": [
    "# Perceptrón de Hinton\n",
    "### Descripción General del Práctico\n",
    "En este práctico, exploraremos la implementación y el entrenamiento de un modelo Perdeptrón de Hinton para generación de imágenes. Usaremos los datasets [MNIST](https://es.wikipedia.org/wiki/Base_de_datos_MNIST) y [FashionMNIST](https://en.wikipedia.org/wiki/Fashion_MNIST).\n",
    "\n",
    "### Objetivo del Práctico\n",
    "El objetivo de este práctico es endender cómo se implementa y entrena el Perceptrón presentado por Hinton para generación de imágenes."
   ]
  },
  {
   "cell_type": "markdown",
   "id": "800cc712",
   "metadata": {},
   "source": [
    "### Imports"
   ]
  },
  {
   "cell_type": "code",
   "execution_count": null,
   "metadata": {
    "colab": {
     "base_uri": "https://localhost:8080/"
    },
    "id": "zkm-hqaVBkcW",
    "outputId": "88a7e46d-380f-4494-fcb7-3316e28c1560"
   },
   "outputs": [],
   "source": [
    "import time\n",
    "import math\n",
    "import torch\n",
    "import random\n",
    "import matplotlib.pyplot as plt\n",
    "import torch.nn as nn\n",
    "import torchvision.datasets as datasets\n",
    "import torchvision.transforms as transforms\n",
    "from torch.utils.data.dataloader import DataLoader\n",
    "from tqdm import tqdm"
   ]
  },
  {
   "cell_type": "markdown",
   "metadata": {},
   "source": [
    "### Seteo de Device\n",
    "\n",
    "Seteamos sobre que dispositivo vamos a estar corriendo el entrenamiento e inferencia."
   ]
  },
  {
   "cell_type": "code",
   "execution_count": null,
   "metadata": {},
   "outputs": [],
   "source": [
    "DEVICE = torch.device(\n",
    "    'cuda:0' if torch.cuda.is_available() else \n",
    "    'mps' if torch.backends.mps.is_available() else \n",
    "    'cpu'\n",
    ")\n",
    "print(DEVICE)\n",
    "\n",
    "torch.manual_seed(42)\n",
    "torch.backends.cudnn.deterministic = True"
   ]
  },
  {
   "cell_type": "markdown",
   "id": "4dfb3de9",
   "metadata": {},
   "source": [
    "### Transformaciones:\n",
    "\n",
    "Creamos la transformación para binarizar nuestro dataset. Esto va a hacer que pasemos de $[0, 256]$ a $\\{0, 1\\}$. A su vez agregamos la transformación trabajar con tensores."
   ]
  },
  {
   "cell_type": "code",
   "execution_count": null,
   "metadata": {
    "id": "zX8YyIUNQPfX"
   },
   "outputs": [],
   "source": [
    "class BinarizedTransform:\n",
    "    def __call__(self, img):\n",
    "        return (img > .5).float()\n",
    "    \n",
    "img_transforms = transforms.Compose([transforms.ToTensor(), BinarizedTransform()])\n",
    "img_shape = (28,28)\n",
    "img_size = 28*28*1\n",
    "num_classes = 10"
   ]
  },
  {
   "cell_type": "markdown",
   "metadata": {},
   "source": [
    "### Dataset\n",
    "\n",
    "Vamos a estar trabajando con el dataset de [MNIST](https://es.wikipedia.org/wiki/Base_de_datos_MNIST) que nos brinda imágenes de 28*28 de dígitos escritos a mano.\n",
    "\n",
    "Para la generación vamos a estar trabajando únicamente con un solo dígito. Vamos a setearlo en este momento y continuamos trabajando con este."
   ]
  },
  {
   "cell_type": "code",
   "execution_count": null,
   "metadata": {},
   "outputs": [],
   "source": [
    "labels_used = [1]"
   ]
  },
  {
   "cell_type": "markdown",
   "metadata": {},
   "source": [
    "### Carga de datos y creación de Dataloader."
   ]
  },
  {
   "cell_type": "code",
   "execution_count": null,
   "metadata": {},
   "outputs": [],
   "source": [
    "BATCH_SIZE = ...\n",
    "\n",
    "download_dataset = True # If you already have the dataset you could use False\n",
    "\n",
    "train_data = datasets.MNIST(root='mnist/', train=True, transform=img_transforms, download=download_dataset)\n",
    "train_data = [(image, label) for image, label in train_data if labels_used and label in labels_used]\n",
    "\n",
    "train_dataloader = DataLoader(\n",
    "    train_data, batch_size=BATCH_SIZE, shuffle=True\n",
    ")\n"
   ]
  },
  {
   "cell_type": "markdown",
   "metadata": {},
   "source": [
    "### Exploración del Dataset"
   ]
  },
  {
   "cell_type": "code",
   "execution_count": null,
   "metadata": {},
   "outputs": [],
   "source": [
    "def show_images(images, title=\"MNIST Images\"):\n",
    "    n = len(images)\n",
    "    rows = math.floor(math.sqrt(n))\n",
    "    columns = math.ceil(n / rows)\n",
    "\n",
    "    fig, axs = plt.subplots(rows, columns)\n",
    "    fig.suptitle(title, fontsize=14, y=.95)\n",
    "\n",
    "    for i in range(rows):\n",
    "        for j in range(columns):\n",
    "            index = i*columns + j\n",
    "            if index < n:\n",
    "                axs[i,j].imshow(images[index], cmap='gray')\n",
    "            axs[i,j].axis('off')\n",
    "\n",
    "    plt.show()"
   ]
  },
  {
   "cell_type": "code",
   "execution_count": null,
   "metadata": {
    "colab": {
     "base_uri": "https://localhost:8080/",
     "height": 428
    },
    "id": "Xodvm03tQPfX",
    "outputId": "6417e72a-cb68-4946-d6ac-f8dae4bcdcd4"
   },
   "outputs": [],
   "source": [
    "images = []\n",
    "for _ in range(12):\n",
    "    image, label = train_data[random.randrange(len(train_data))]\n",
    "    images.append(image.reshape(img_shape))\n",
    "show_images(images)"
   ]
  },
  {
   "attachments": {
    "image.png": {
     "image/png": "[encoded data removed]"
    }
   },
   "cell_type": "markdown",
   "metadata": {},
   "source": [
    "### Definicion de Hinton Perceptron\n",
    "\n",
    "![image.png](attachment:image.png)\n",
    "\n",
    "Para replicar esto usaremos una máscara que deje a todos los pesos que \"ven el futuro\" no afecten la predicción.\n",
    "Revisar [torch.tril](https://docs.pytorch.org/docs/stable/generated/torch.tril.html). No se olviden de la diagonal!"
   ]
  },
  {
   "cell_type": "code",
   "execution_count": null,
   "metadata": {},
   "outputs": [],
   "source": [
    "ones = torch.ones((3,3))\n",
    "\n",
    "masked_ones = ...\n",
    "print(masked_ones.T)\n",
    "print(torch.matmul(ones, masked_ones.T))"
   ]
  },
  {
   "cell_type": "markdown",
   "metadata": {},
   "source": [
    "¿Qué resultado debería dara la multiplicación de ones . masked_ones.T?"
   ]
  },
  {
   "cell_type": "markdown",
   "metadata": {},
   "source": [
    "Recomendamos usar [nn.Parameter](https://docs.pytorch.org/docs/stable/generated/torch.nn.parameter.Parameter.html) para la definición de los pesos y del bias."
   ]
  },
  {
   "cell_type": "code",
   "execution_count": null,
   "metadata": {},
   "outputs": [],
   "source": [
    "class HintonPerceptron(nn.Module):\n",
    "    def __init__(\n",
    "        self,\n",
    "        input_size: int,\n",
    "        img_shape: tuple[int, int]\n",
    "    ):\n",
    "        super(HintonPerceptron, self).__init__()\n",
    "        self.img_shape = img_shape\n",
    "        self.img_size = torch.prod(torch.tensor(img_shape)).item()\n",
    "\n",
    "        # Inicializamos pesos W\n",
    "        self.w = ...\n",
    "\n",
    "        # Guardamos la máscara\n",
    "        self.mask = ...\n",
    "\n",
    "        # Inicializamos bias b\n",
    "        self.bias = ...\n",
    "        \n",
    "    def forward(\n",
    "        self,\n",
    "        x: torch.Tensor\n",
    "    ):\n",
    "        # Aplicamos la máscara a w para no usar pesos futuros\n",
    "        w_masked = ...\n",
    "\n",
    "        # Multiplicamos x . w^T (w transpuesta)\n",
    "        x_w = ...\n",
    "\n",
    "        # Sumamos el bias\n",
    "        logits = ...\n",
    "        \n",
    "        # Aplicamos la función de activación y retornamos\n",
    "        return ...\n",
    "    \n",
    "    def generate_x(\n",
    "        self,\n",
    "        num_images: int\n",
    "    ):\n",
    "        # Usamos torch.no_grad() porque no necesitamos gradientes para generar imágenes\n",
    "        with torch.no_grad():\n",
    "            pass\n",
    "            # Generamos imágenes de tamaño num_images x img_size\n",
    "            # Para cada píxel\n",
    "                # Obtenemos la salida de la red basada en los pixeles generadas hasta ahora\n",
    "                # Muestreamos una distribución Bernoulli para obtener el valor del píxel\n",
    "            # Retornamos las imágenes generadas (en formato de imagen, precisamos redimensionar)"
   ]
  },
  {
   "cell_type": "markdown",
   "id": "e72f4e85",
   "metadata": {},
   "source": [
    "### Creación del modelo y seteo de Hyper-parámetros\n",
    "En esta sección del código, se crea el modelo.\n",
    "\n",
    "Y se eligen arbitrariamente los siguientes hyper-parámetros:\n",
    "- learning rate (lr)\n",
    "- cantidad de épocas (epochs)\n",
    "- optimizador (optim)"
   ]
  },
  {
   "cell_type": "code",
   "execution_count": null,
   "metadata": {
    "id": "jtVZ5Tt9Bkcc"
   },
   "outputs": [],
   "source": [
    "lr = ...\n",
    "epochs = ...\n",
    "criterion = ... # función de pérdida\n",
    "\n",
    "model = HintonPerceptron(\n",
    "    input_size=...,\n",
    "    img_shape=...\n",
    ").to(DEVICE)\n",
    "\n",
    "optim = ..."
   ]
  },
  {
   "cell_type": "markdown",
   "metadata": {},
   "source": [
    "¿Por qué eligió usar esa función de pérdida?"
   ]
  },
  {
   "cell_type": "markdown",
   "id": "4df8d6fe",
   "metadata": {},
   "source": [
    "### Proceso de entrenamiento del modelo\n",
    "En esta celda, se define el entrenamiento del modelo utilizando un conjunto de datos de entrenamiento.\n",
    "\n",
    "El código optimiza los parámetros del modelo minimizando la función de pérdida previamente definida a través de un optimizador."
   ]
  },
  {
   "cell_type": "code",
   "execution_count": null,
   "metadata": {
    "id": "93uzhYnABkce"
   },
   "outputs": [],
   "source": [
    "def train_model(\n",
    "    model: nn.Module,\n",
    "    criterion: nn.Module,\n",
    "    n_epochs: int,\n",
    "    train_loader: DataLoader,\n",
    "    optim: torch.optim.Optimizer,\n",
    "    print_epoch: int = 1\n",
    "):\n",
    "    for epoch in tqdm(range(n_epochs)):\n",
    "        start_time = time.time()\n",
    "        learning_error = 0\n",
    "        for img, _ in train_loader:\n",
    "            # Aplanamos la imagen y la movemos al dispositivo correspondiente\n",
    "            x = ...\n",
    "    \n",
    "            # Reseteamos los gradientes\n",
    "            optim.zero_grad()\n",
    "\n",
    "            # Hacemos la predicción\n",
    "            preds = ...\n",
    "\n",
    "            # Calculamos la loss\n",
    "            loss = ...\n",
    "\n",
    "            # Hacemos backprop\n",
    "            loss.backward()\n",
    "\n",
    "            # Optimizamos\n",
    "            optim.step()\n",
    "\n",
    "            learning_error += loss.item()\n",
    "\n",
    "        if epoch%print_epoch == 0:\n",
    "            imgs = model.generate_x(12).cpu()\n",
    "            show_images(imgs, f\"Generated images on epoch {epoch+1}\")\n",
    "            print(f\"Epoch: {epoch+1} - duration {time.time()-start_time}s- error: {learning_error/len(train_loader)}\")\n",
    "\n",
    "    return model"
   ]
  },
  {
   "cell_type": "markdown",
   "metadata": {},
   "source": [
    "¿Por qué no usamos los valores de `y` que tiene el dataset? ¿No nos afecta esto al calcular la loss?"
   ]
  },
  {
   "cell_type": "markdown",
   "id": "5e25d4db",
   "metadata": {},
   "source": [
    "### Entrenamos el modelo!"
   ]
  },
  {
   "cell_type": "code",
   "execution_count": null,
   "metadata": {
    "colab": {
     "base_uri": "https://localhost:8080/",
     "height": 407
    },
    "id": "XQjrWGiIBkce",
    "outputId": "1c5a528e-2452-4e68-81c7-edd70f6a7d39"
   },
   "outputs": [],
   "source": [
    "trained_model = train_model(\n",
    "    model=model,\n",
    "    criterion=criterion,\n",
    "    n_epochs=int(epochs),\n",
    "    train_loader=train_dataloader,\n",
    "    optim=optim,\n",
    "    print_epoch=20\n",
    ")"
   ]
  },
  {
   "cell_type": "markdown",
   "metadata": {},
   "source": [
    "### Probamos el modelo generando imagenes"
   ]
  },
  {
   "cell_type": "code",
   "execution_count": null,
   "metadata": {
    "id": "H_YA1dSp0kHX"
   },
   "outputs": [],
   "source": [
    "imgs = model.generate_x(12).cpu()\n",
    "show_images(imgs, \"Generated Images after training\")"
   ]
  },
  {
   "cell_type": "markdown",
   "metadata": {},
   "source": [
    "## Ejercicios:\n",
    "1) Complete el código del perceptrón de Hinton.\n",
    "2) Entrene el modelo utilizando 1 dígito.\n",
    "3) Entrene el modelo utilizando al menos 3 dígitos.\n",
    "4) Compare resultados. ¿Qué diferencias observas?\n",
    "5) Entrene el modelo con el dataset de [FashionMNIST](https://pytorch.org/vision/stable/generated/torchvision.datasets.FashionMNIST.html).\n",
    "6) Compare y comente sobre los resultados obtenidos."
   ]
  }
 ],
 "metadata": {
  "colab": {
   "provenance": []
  },
  "kernelspec": {
   "display_name": "IAGen",
   "language": "python",
   "name": "python3"
  },
  "language_info": {
   "codemirror_mode": {
    "name": "ipython",
    "version": 3
   },
   "file_extension": ".py",
   "mimetype": "text/x-python",
   "name": "python",
   "nbconvert_exporter": "python",
   "pygments_lexer": "ipython3",
   "version": "3.11.8"
  }
 },
 "nbformat": 4,
 "nbformat_minor": 0
}
